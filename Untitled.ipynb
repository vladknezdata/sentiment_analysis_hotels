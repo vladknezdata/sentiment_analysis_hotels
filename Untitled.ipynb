{
 "cells": [
  {
   "cell_type": "code",
   "execution_count": 44,
   "metadata": {},
   "outputs": [],
   "source": [
    "import numpy as np\n",
    "import pandas as pd"
   ]
  },
  {
   "cell_type": "code",
   "execution_count": 45,
   "metadata": {},
   "outputs": [],
   "source": [
    "df = pd.read_csv(\"boston.csv\")"
   ]
  },
  {
   "cell_type": "code",
   "execution_count": 46,
   "metadata": {},
   "outputs": [],
   "source": [
    "df.columns=['filePath','hotelName','review','ratingScore','groundTruth']"
   ]
  },
  {
   "cell_type": "code",
   "execution_count": 47,
   "metadata": {},
   "outputs": [
    {
     "data": {
      "text/plain": [
       "(14805, 5)"
      ]
     },
     "execution_count": 47,
     "metadata": {},
     "output_type": "execute_result"
    }
   ],
   "source": [
    "df.shape"
   ]
  },
  {
   "cell_type": "code",
   "execution_count": 48,
   "metadata": {},
   "outputs": [
    {
     "data": {
      "text/plain": [
       "0        \"Agree with previous poster describing this as...\n",
       "1        \"Evolve East Boston 2132 was perfect for our w...\n",
       "2        \"We are a family from Denmark who arrived in B...\n",
       "3        \"Large spacious studio apartment hotel room. H...\n",
       "4        \"Room excellent, very comfortable bed and all ...\n",
       "5        \"We booked this with northeast suites. \\\\nDo n...\n",
       "6        \"It is not a hotel and tells you that quite pl...\n",
       "7        \"So we get there late at night. The name on my...\n",
       "8        \"I arrived and they gave me two different apar...\n",
       "9        \"A very convenient, comfortable, spacious, con...\n",
       "10       \"I tend to post only positive reviews for plac...\n",
       "11       \"Stayed in hotel while having a layover. Nothi...\n",
       "12       \"Wow just got from Switzerland on a terminally...\n",
       "13       \"This is the perfect hotel. It\\\\'s linked in t...\n",
       "14       \"Traveling to Boston from the west coast is a ...\n",
       "15       \"This is the best airport hotel with a walk wa...\n",
       "16       \"had to stay here due to flight cancellation. ...\n",
       "17       \"We got in late and left early -- but this hot...\n",
       "18       \"The only Boston Logan hotel where one can wal...\n",
       "19       \"We were bumped on a flight on Delta and given...\n",
       "20       \"I stayed at this Hilton for a short night as ...\n",
       "21       \"I stayed in room 832 on June 13 in order to b...\n",
       "22       \"Great views of the airport and the city skyli...\n",
       "23       \"The hotel is great for late night arrival. Th...\n",
       "24       \"The Hotel Is Well Kept And Very Classical In ...\n",
       "25       \"The Boston Logan Airport Hilton hotel is idea...\n",
       "26       \"Besides being close to the airport and for th...\n",
       "27       \"We often stay at airports around the world so...\n",
       "28       \"Great hotel for airport convenience. The room...\n",
       "29       \"Let\\\\'s start with the good: the digital key ...\n",
       "                               ...                        \n",
       "14775    \"Pros:\\\\n- This is a beautiful hotel. It\\\\'s a...\n",
       "14776    \"My wife and I came across this new low priced...\n",
       "14777    \"Everywhere you go, there\\\\u2019s something ne...\n",
       "14778    \"First impressions are good as you enter the l...\n",
       "14779    \"Beds were very comfortable, showers/bathrooms...\n",
       "14780    \"The bunks for four singles traveling together...\n",
       "14781    \"I stayed here for two weeks starting June 21,...\n",
       "14782    \"I found 677 Tremont Street when I needed a lo...\n",
       "14783    \"I\\\\'ve stayed at the Caj House for 2 months w...\n",
       "14784    \"I stayed here for several weeks during my ass...\n",
       "14785    \"Because of my job I needed to spend four mont...\n",
       "14786    \"I stayed in one of the Tremont Street studio ...\n",
       "14787    \"I recently stayed at 45 Worcester Street. The...\n",
       "14788    \"I stayed 4 weeks in CAJ House Tremont St. (ap...\n",
       "14789    \"I was in Boston for a business trip and neede...\n",
       "14790    \"Just got back from a month at CAJ on Tremont ...\n",
       "14791    \"As a frequent visitor to Boston, I have staye...\n",
       "14792    \"Caj house was great and I would definitely re...\n",
       "14793    \"Clean, safe, and comfortable.  I stayed in ap...\n",
       "14794    \"Me and my wife stayed at Caj House for 6 week...\n",
       "14795    \"I stayed at Caj house for one month while in ...\n",
       "14796    \"We stayed on Tremont Street in July 2016 and ...\n",
       "14797    \"Caj House is a terrrific alternative to hotel...\n",
       "14798    \"Just got back to New York after a four month ...\n",
       "14799    \"I have stayed at Caj house for 7 weeks from J...\n",
       "14800    \"My son stayed at the CAJ Worcester location f...\n",
       "14801    \"I found CAJ house on the internet and my 6 mo...\n",
       "14802    \"I have stayed in Tremont street for a week. I...\n",
       "14803    \"What a pleasure it has been staying in one of...\n",
       "14804    \"I stayed at ap#5 for 5 weeks and everything w...\n",
       "Name: review, Length: 14805, dtype: object"
      ]
     },
     "execution_count": 48,
     "metadata": {},
     "output_type": "execute_result"
    }
   ],
   "source": [
    "df['review']"
   ]
  },
  {
   "cell_type": "code",
   "execution_count": null,
   "metadata": {},
   "outputs": [],
   "source": []
  }
 ],
 "metadata": {
  "kernelspec": {
   "display_name": "Python 3",
   "language": "python",
   "name": "python3"
  },
  "language_info": {
   "codemirror_mode": {
    "name": "ipython",
    "version": 3
   },
   "file_extension": ".py",
   "mimetype": "text/x-python",
   "name": "python",
   "nbconvert_exporter": "python",
   "pygments_lexer": "ipython3",
   "version": "3.7.3"
  }
 },
 "nbformat": 4,
 "nbformat_minor": 2
}
