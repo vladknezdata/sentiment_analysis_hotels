{
 "cells": [
  {
   "cell_type": "markdown",
   "metadata": {},
   "source": [
    "# Sentiment Analysis for Hotel Reviews"
   ]
  },
  {
   "cell_type": "markdown",
   "metadata": {},
   "source": [
    "## Overview\n",
    "This project is analyzing sentiment in hotel reviews using **Mutual Information** and **Vader Sentiment Analyzer**. We crawl hotel review data from Trip Advisor website by using a python script which can be downloaded at [here](https://github.com/aesuli/trip-advisor-crawler).\n",
    "\n",
    "We use **Vader sentiment analyzer, Mutual Information and Point-wise Mutual Information** to discover the relation between those metrics and ground-truth rating scores."
   ]
  },
  {
   "cell_type": "markdown",
   "metadata": {},
   "source": [
    "## What we are going to do\n",
    "\n",
    "1. Crawl hotel review data from Trip Advisor by using a python script ([click](https://github.com/aesuli/trip-advisor-crawler) to see how to use the script)\n",
    "\n",
    "2. Read the data (.csv format) into **pandas dataframe**\n",
    "\n",
    "3. Use **Vader sentiment analyzer****bag-of-words model** (unigram)\n",
    "\n",
    "4. Calculate **word frequency**, **mutual information** and **pointwise mutual information** for the unigrams to see how they relate with the review scores\n",
    "\n",
    "5. **Visualize** the distribution of the ground-truth scores and Vader scores\n",
    "6. Discuss"
   ]
  },
  {
   "cell_type": "markdown",
   "metadata": {},
   "source": [
    "### Install and import the packages"
   ]
  },
  {
   "cell_type": "code",
   "execution_count": 1,
   "metadata": {},
   "outputs": [
    {
     "name": "stderr",
     "output_type": "stream",
     "text": [
      "[nltk_data] Downloading package vader_lexicon to\n",
      "[nltk_data]     /Users/vlad/nltk_data...\n",
      "[nltk_data]   Package vader_lexicon is already up-to-date!\n",
      "[nltk_data] Downloading package stopwords to /Users/vlad/nltk_data...\n",
      "[nltk_data]   Package stopwords is already up-to-date!\n"
     ]
    },
    {
     "data": {
      "text/plain": [
       "True"
      ]
     },
     "execution_count": 1,
     "metadata": {},
     "output_type": "execute_result"
    }
   ],
   "source": [
    "#Download required ntlk packages and lib\n",
    "import nltk\n",
    "nltk.download(\"vader_lexicon\")\n",
    "nltk.download(\"stopwords\")"
   ]
  },
  {
   "cell_type": "code",
   "execution_count": 2,
   "metadata": {},
   "outputs": [],
   "source": [
    "from nltk.sentiment import SentimentAnalyzer\n",
    "from nltk.sentiment.vader import SentimentIntensityAnalyzer\n",
    "from nltk.sentiment.util import *\n",
    "from nltk import tokenize\n",
    "from nltk.corpus import stopwords\n",
    "import pandas as pd\n",
    "import numpy as np\n",
    "from collections import Counter\n",
    "import re\n",
    "import math\n",
    "import html\n",
    "import sklearn\n",
    "import sklearn.metrics as metrics\n",
    "from sklearn.metrics import mutual_info_score\n",
    "from sklearn.feature_extraction.text import CountVectorizer, TfidfVectorizer, ENGLISH_STOP_WORDS\n",
    "import matplotlib.pyplot as plt\n",
    "import seaborn as sns\n",
    "from pprint import pprint\n",
    "\n",
    "%matplotlib inline"
   ]
  },
  {
   "cell_type": "markdown",
   "metadata": {},
   "source": [
    "### Test the Vader analyzer"
   ]
  },
  {
   "cell_type": "code",
   "execution_count": 3,
   "metadata": {},
   "outputs": [],
   "source": [
    "#Sentences to try with vader\n",
    "sentences = [\"VADER is smart, handsome, and funny.\",\n",
    "             \"Data Scientists are sexy!\",\n",
    "             \"The room was dirty and small\",\n",
    "             \"They had excellent facilities!\",\n",
    "             \"This hotel is the worst hotel in the city\"]"
   ]
  },
  {
   "cell_type": "code",
   "execution_count": 4,
   "metadata": {},
   "outputs": [],
   "source": [
    "#Instantiate an instance to access SentimentIntensityAnalyzer class\n",
    "sid = SentimentIntensityAnalyzer()"
   ]
  },
  {
   "cell_type": "code",
   "execution_count": 5,
   "metadata": {},
   "outputs": [
    {
     "name": "stdout",
     "output_type": "stream",
     "text": [
      "VADER is smart, handsome, and funny.\n",
      "compound: 0.8316, neg: 0.0, neu: 0.254, pos: 0.746, \n",
      "\n",
      "Data Scientists are sexy!\n",
      "compound: 0.5707, neg: 0.0, neu: 0.448, pos: 0.552, \n",
      "\n",
      "The room was dirty and small\n",
      "compound: -0.4404, neg: 0.367, neu: 0.633, pos: 0.0, \n",
      "\n",
      "They had excellent facilities!\n",
      "compound: 0.6114, neg: 0.0, neu: 0.429, pos: 0.571, \n",
      "\n",
      "This hotel is the worst hotel in the city\n",
      "compound: -0.6249, neg: 0.339, neu: 0.661, pos: 0.0, \n",
      "\n"
     ]
    }
   ],
   "source": [
    "#Vader output\n",
    "for sentence in sentences:\n",
    "    print(sentence)\n",
    "    ss = sid.polarity_scores(sentence)\n",
    "    for k in sorted(ss):\n",
    "         print('{0}: {1}, '.format(k, ss[k]), end='')\n",
    "    print('\\n')"
   ]
  },
  {
   "cell_type": "markdown",
   "metadata": {},
   "source": [
    "It can be seen from the previous examples that **Vader sentiment analyzer** does good job in identifying polarity of the sentences and give us **compound** score which is in range of [-1, 1]. As compound is close to +1.0, the sentence has positive words and mood."
   ]
  },
  {
   "cell_type": "markdown",
   "metadata": {},
   "source": [
    "## Let's read the .csv data we scrapped from Trip Advisor"
   ]
  },
  {
   "cell_type": "code",
   "execution_count": 6,
   "metadata": {},
   "outputs": [],
   "source": [
    "# Read in from pandas\n",
    "hotelDf = pd.read_csv('boston.csv')\n",
    "hotelDf.columns=['filePath','hotelName','review','ratingScore','groundTruth']"
   ]
  },
  {
   "cell_type": "code",
   "execution_count": 10,
   "metadata": {},
   "outputs": [
    {
     "data": {
      "text/html": [
       "<div>\n",
       "<style scoped>\n",
       "    .dataframe tbody tr th:only-of-type {\n",
       "        vertical-align: middle;\n",
       "    }\n",
       "\n",
       "    .dataframe tbody tr th {\n",
       "        vertical-align: top;\n",
       "    }\n",
       "\n",
       "    .dataframe thead th {\n",
       "        text-align: right;\n",
       "    }\n",
       "</style>\n",
       "<table border=\"1\" class=\"dataframe\">\n",
       "  <thead>\n",
       "    <tr style=\"text-align: right;\">\n",
       "      <th></th>\n",
       "      <th>filePath</th>\n",
       "      <th>hotelName</th>\n",
       "      <th>review</th>\n",
       "      <th>ratingScore</th>\n",
       "      <th>groundTruth</th>\n",
       "    </tr>\n",
       "  </thead>\n",
       "  <tbody>\n",
       "    <tr>\n",
       "      <th>0</th>\n",
       "      <td>OUT/com/60745/10169149/399779552.html</td>\n",
       "      <td>Evolve East Boston</td>\n",
       "      <td>\"Agree with previous poster describing this as...</td>\n",
       "      <td>4</td>\n",
       "      <td>positive</td>\n",
       "    </tr>\n",
       "    <tr>\n",
       "      <th>1</th>\n",
       "      <td>OUT/com/60745/10169149/617275497.html</td>\n",
       "      <td>Evolve East Boston</td>\n",
       "      <td>\"Evolve East Boston 2132 was perfect for our w...</td>\n",
       "      <td>5</td>\n",
       "      <td>positive</td>\n",
       "    </tr>\n",
       "    <tr>\n",
       "      <th>2</th>\n",
       "      <td>OUT/com/60745/10169149/584513693.html</td>\n",
       "      <td>Evolve East Boston</td>\n",
       "      <td>\"We are a family from Denmark who arrived in B...</td>\n",
       "      <td>3</td>\n",
       "      <td>negative</td>\n",
       "    </tr>\n",
       "    <tr>\n",
       "      <th>3</th>\n",
       "      <td>OUT/com/60745/10169149/427608075.html</td>\n",
       "      <td>Evolve East Boston</td>\n",
       "      <td>\"Large spacious studio apartment hotel room. H...</td>\n",
       "      <td>4</td>\n",
       "      <td>positive</td>\n",
       "    </tr>\n",
       "    <tr>\n",
       "      <th>4</th>\n",
       "      <td>OUT/com/60745/10169149/539042739.html</td>\n",
       "      <td>Evolve East Boston</td>\n",
       "      <td>\"Room excellent, very comfortable bed and all ...</td>\n",
       "      <td>5</td>\n",
       "      <td>positive</td>\n",
       "    </tr>\n",
       "  </tbody>\n",
       "</table>\n",
       "</div>"
      ],
      "text/plain": [
       "                                filePath           hotelName  \\\n",
       "0  OUT/com/60745/10169149/399779552.html  Evolve East Boston   \n",
       "1  OUT/com/60745/10169149/617275497.html  Evolve East Boston   \n",
       "2  OUT/com/60745/10169149/584513693.html  Evolve East Boston   \n",
       "3  OUT/com/60745/10169149/427608075.html  Evolve East Boston   \n",
       "4  OUT/com/60745/10169149/539042739.html  Evolve East Boston   \n",
       "\n",
       "                                              review  ratingScore groundTruth  \n",
       "0  \"Agree with previous poster describing this as...            4    positive  \n",
       "1  \"Evolve East Boston 2132 was perfect for our w...            5    positive  \n",
       "2  \"We are a family from Denmark who arrived in B...            3    negative  \n",
       "3  \"Large spacious studio apartment hotel room. H...            4    positive  \n",
       "4  \"Room excellent, very comfortable bed and all ...            5    positive  "
      ]
     },
     "execution_count": 10,
     "metadata": {},
     "output_type": "execute_result"
    }
   ],
   "source": [
    "hotelDf.head()"
   ]
  },
  {
   "cell_type": "code",
   "execution_count": 11,
   "metadata": {},
   "outputs": [],
   "source": [
    "# There are unparsed html tags in the hotelnames. We can changed the html tags to ascii equivalents by using the following code.\n",
    "for i in range(len(hotelDf)):\n",
    "    hotelname = hotelDf.at[i, 'hotelName']\n",
    "    hotelname = hotelname.encode(\"utf-8\")\n",
    "    hotelname = hotelname.decode(\"ascii\", \"ignore\")\n",
    "    hotelname = html.unescape(hotelname)\n",
    "    hotelDf.at[i, 'hotelName'] = hotelname"
   ]
  },
  {
   "cell_type": "markdown",
   "metadata": {},
   "source": [
    "One thing we can notice here is the groundtruth is categorical variable ('positive', 'negative'). If the rating score is 4 or 5, we say the ground truth is positive, otherwise we say it is negative."
   ]
  },
  {
   "cell_type": "code",
   "execution_count": 12,
   "metadata": {},
   "outputs": [],
   "source": [
    "# Instantiate the sentiment Analyzer\n",
    "sid = SentimentIntensityAnalyzer()"
   ]
  },
  {
   "cell_type": "code",
   "execution_count": 13,
   "metadata": {},
   "outputs": [
    {
     "name": "stdout",
     "output_type": "stream",
     "text": [
      "processed 1 reviews\n",
      "processed 1001 reviews\n",
      "processed 2001 reviews\n",
      "processed 3001 reviews\n",
      "processed 4001 reviews\n",
      "processed 5001 reviews\n",
      "processed 6001 reviews\n",
      "processed 7001 reviews\n",
      "processed 8001 reviews\n",
      "processed 9001 reviews\n",
      "processed 10001 reviews\n",
      "processed 11001 reviews\n",
      "processed 12001 reviews\n",
      "processed 13001 reviews\n",
      "processed 14001 reviews\n",
      "completed\n"
     ]
    }
   ],
   "source": [
    "vaderScores = []\n",
    "#Assign Vader score to individual review using Vader compound score\n",
    "for rownum, review in enumerate(hotelDf['review']):\n",
    "    scores = sid.polarity_scores(review)\n",
    "    vaderScores.append(scores['compound'])\n",
    "    if (rownum % 1000 == 0):\n",
    "            print(\"processed %d reviews\" % (rownum+1))\n",
    "print(\"completed\")"
   ]
  },
  {
   "cell_type": "code",
   "execution_count": 14,
   "metadata": {},
   "outputs": [
    {
     "data": {
      "text/html": [
       "<div>\n",
       "<style scoped>\n",
       "    .dataframe tbody tr th:only-of-type {\n",
       "        vertical-align: middle;\n",
       "    }\n",
       "\n",
       "    .dataframe tbody tr th {\n",
       "        vertical-align: top;\n",
       "    }\n",
       "\n",
       "    .dataframe thead th {\n",
       "        text-align: right;\n",
       "    }\n",
       "</style>\n",
       "<table border=\"1\" class=\"dataframe\">\n",
       "  <thead>\n",
       "    <tr style=\"text-align: right;\">\n",
       "      <th></th>\n",
       "      <th>filePath</th>\n",
       "      <th>hotelName</th>\n",
       "      <th>review</th>\n",
       "      <th>ratingScore</th>\n",
       "      <th>groundTruth</th>\n",
       "      <th>vaderScore</th>\n",
       "    </tr>\n",
       "  </thead>\n",
       "  <tbody>\n",
       "    <tr>\n",
       "      <th>0</th>\n",
       "      <td>OUT/com/60745/10169149/399779552.html</td>\n",
       "      <td>Evolve East Boston</td>\n",
       "      <td>\"Agree with previous poster describing this as...</td>\n",
       "      <td>4</td>\n",
       "      <td>positive</td>\n",
       "      <td>0.8519</td>\n",
       "    </tr>\n",
       "    <tr>\n",
       "      <th>1</th>\n",
       "      <td>OUT/com/60745/10169149/617275497.html</td>\n",
       "      <td>Evolve East Boston</td>\n",
       "      <td>\"Evolve East Boston 2132 was perfect for our w...</td>\n",
       "      <td>5</td>\n",
       "      <td>positive</td>\n",
       "      <td>-0.2641</td>\n",
       "    </tr>\n",
       "    <tr>\n",
       "      <th>2</th>\n",
       "      <td>OUT/com/60745/10169149/584513693.html</td>\n",
       "      <td>Evolve East Boston</td>\n",
       "      <td>\"We are a family from Denmark who arrived in B...</td>\n",
       "      <td>3</td>\n",
       "      <td>negative</td>\n",
       "      <td>0.6303</td>\n",
       "    </tr>\n",
       "    <tr>\n",
       "      <th>3</th>\n",
       "      <td>OUT/com/60745/10169149/427608075.html</td>\n",
       "      <td>Evolve East Boston</td>\n",
       "      <td>\"Large spacious studio apartment hotel room. H...</td>\n",
       "      <td>4</td>\n",
       "      <td>positive</td>\n",
       "      <td>0.8268</td>\n",
       "    </tr>\n",
       "    <tr>\n",
       "      <th>4</th>\n",
       "      <td>OUT/com/60745/10169149/539042739.html</td>\n",
       "      <td>Evolve East Boston</td>\n",
       "      <td>\"Room excellent, very comfortable bed and all ...</td>\n",
       "      <td>5</td>\n",
       "      <td>positive</td>\n",
       "      <td>0.8932</td>\n",
       "    </tr>\n",
       "  </tbody>\n",
       "</table>\n",
       "</div>"
      ],
      "text/plain": [
       "                                filePath           hotelName  \\\n",
       "0  OUT/com/60745/10169149/399779552.html  Evolve East Boston   \n",
       "1  OUT/com/60745/10169149/617275497.html  Evolve East Boston   \n",
       "2  OUT/com/60745/10169149/584513693.html  Evolve East Boston   \n",
       "3  OUT/com/60745/10169149/427608075.html  Evolve East Boston   \n",
       "4  OUT/com/60745/10169149/539042739.html  Evolve East Boston   \n",
       "\n",
       "                                              review  ratingScore groundTruth  \\\n",
       "0  \"Agree with previous poster describing this as...            4    positive   \n",
       "1  \"Evolve East Boston 2132 was perfect for our w...            5    positive   \n",
       "2  \"We are a family from Denmark who arrived in B...            3    negative   \n",
       "3  \"Large spacious studio apartment hotel room. H...            4    positive   \n",
       "4  \"Room excellent, very comfortable bed and all ...            5    positive   \n",
       "\n",
       "   vaderScore  \n",
       "0      0.8519  \n",
       "1     -0.2641  \n",
       "2      0.6303  \n",
       "3      0.8268  \n",
       "4      0.8932  "
      ]
     },
     "execution_count": 14,
     "metadata": {},
     "output_type": "execute_result"
    }
   ],
   "source": [
    "# Assign vader scores in the original df\n",
    "hotelDf = hotelDf.assign(vaderScore = vaderScores)\n",
    "hotelDf.head()"
   ]
  },
  {
   "cell_type": "markdown",
   "metadata": {},
   "source": [
    "## Can we learn something about the true ratings from Vader scores?\n",
    "In other words, can we build infer true review ratings by using vader score? and why even would we be intereted in that?\n",
    "\n",
    "Usually, we have many other options for the regression problem. *Linear Regression*, *Decision Tree* and etc.\n",
    "\n",
    "But using Vader analyzer is **simple and fast**. We can use it as an initial tool before building a heavy machine learning model to figure out the trend in the data."
   ]
  },
  {
   "cell_type": "markdown",
   "metadata": {},
   "source": [
    "#### Top 5 reviews hotel by *ratings*"
   ]
  },
  {
   "cell_type": "code",
   "execution_count": 15,
   "metadata": {},
   "outputs": [],
   "source": [
    "ratingByHotel = hotelDf.groupby(['hotelName']).mean()['ratingScore'].reset_index()\n",
    "vaderByHotel = hotelDf.groupby(['hotelName']).mean()['vaderScore'].reset_index()"
   ]
  },
  {
   "cell_type": "code",
   "execution_count": 16,
   "metadata": {},
   "outputs": [
    {
     "data": {
      "text/html": [
       "<div>\n",
       "<style scoped>\n",
       "    .dataframe tbody tr th:only-of-type {\n",
       "        vertical-align: middle;\n",
       "    }\n",
       "\n",
       "    .dataframe tbody tr th {\n",
       "        vertical-align: top;\n",
       "    }\n",
       "\n",
       "    .dataframe thead th {\n",
       "        text-align: right;\n",
       "    }\n",
       "</style>\n",
       "<table border=\"1\" class=\"dataframe\">\n",
       "  <thead>\n",
       "    <tr style=\"text-align: right;\">\n",
       "      <th></th>\n",
       "      <th>hotelName</th>\n",
       "      <th>ratingScore</th>\n",
       "    </tr>\n",
       "  </thead>\n",
       "  <tbody>\n",
       "    <tr>\n",
       "      <th>6</th>\n",
       "      <td>Caj Guest House Tremont Street</td>\n",
       "      <td>4.791667</td>\n",
       "    </tr>\n",
       "    <tr>\n",
       "      <th>11</th>\n",
       "      <td>Fort Hill Inn</td>\n",
       "      <td>4.555556</td>\n",
       "    </tr>\n",
       "    <tr>\n",
       "      <th>16</th>\n",
       "      <td>The Langham</td>\n",
       "      <td>4.445156</td>\n",
       "    </tr>\n",
       "    <tr>\n",
       "      <th>1</th>\n",
       "      <td>Battery Wharf Hotel, Boston Waterfront</td>\n",
       "      <td>4.365445</td>\n",
       "    </tr>\n",
       "    <tr>\n",
       "      <th>17</th>\n",
       "      <td>The Revolution Hotel</td>\n",
       "      <td>4.340000</td>\n",
       "    </tr>\n",
       "    <tr>\n",
       "      <th>5</th>\n",
       "      <td>Bostonian Boston</td>\n",
       "      <td>4.305501</td>\n",
       "    </tr>\n",
       "    <tr>\n",
       "      <th>8</th>\n",
       "      <td>Copley Square Hotel</td>\n",
       "      <td>4.304867</td>\n",
       "    </tr>\n",
       "    <tr>\n",
       "      <th>19</th>\n",
       "      <td>Yun's Place</td>\n",
       "      <td>4.300000</td>\n",
       "    </tr>\n",
       "    <tr>\n",
       "      <th>18</th>\n",
       "      <td>Verona's B&amp;B</td>\n",
       "      <td>4.238095</td>\n",
       "    </tr>\n",
       "    <tr>\n",
       "      <th>3</th>\n",
       "      <td>Boston Marriott Long Wharf</td>\n",
       "      <td>4.221562</td>\n",
       "    </tr>\n",
       "  </tbody>\n",
       "</table>\n",
       "</div>"
      ],
      "text/plain": [
       "                                 hotelName  ratingScore\n",
       "6           Caj Guest House Tremont Street     4.791667\n",
       "11                           Fort Hill Inn     4.555556\n",
       "16                             The Langham     4.445156\n",
       "1   Battery Wharf Hotel, Boston Waterfront     4.365445\n",
       "17                    The Revolution Hotel     4.340000\n",
       "5                         Bostonian Boston     4.305501\n",
       "8                      Copley Square Hotel     4.304867\n",
       "19                             Yun's Place     4.300000\n",
       "18                            Verona's B&B     4.238095\n",
       "3               Boston Marriott Long Wharf     4.221562"
      ]
     },
     "execution_count": 16,
     "metadata": {},
     "output_type": "execute_result"
    }
   ],
   "source": [
    "ratingByHotel = ratingByHotel.sort_values('ratingScore', ascending=False)\n",
    "ratingByHotel.head(10)"
   ]
  },
  {
   "cell_type": "markdown",
   "metadata": {},
   "source": [
    "#### Top 5 reviews hotel by *vader score*"
   ]
  },
  {
   "cell_type": "code",
   "execution_count": 17,
   "metadata": {},
   "outputs": [
    {
     "data": {
      "text/html": [
       "<div>\n",
       "<style scoped>\n",
       "    .dataframe tbody tr th:only-of-type {\n",
       "        vertical-align: middle;\n",
       "    }\n",
       "\n",
       "    .dataframe tbody tr th {\n",
       "        vertical-align: top;\n",
       "    }\n",
       "\n",
       "    .dataframe thead th {\n",
       "        text-align: right;\n",
       "    }\n",
       "</style>\n",
       "<table border=\"1\" class=\"dataframe\">\n",
       "  <thead>\n",
       "    <tr style=\"text-align: right;\">\n",
       "      <th></th>\n",
       "      <th>hotelName</th>\n",
       "      <th>vaderScore</th>\n",
       "    </tr>\n",
       "  </thead>\n",
       "  <tbody>\n",
       "    <tr>\n",
       "      <th>19</th>\n",
       "      <td>Yun's Place</td>\n",
       "      <td>0.953300</td>\n",
       "    </tr>\n",
       "    <tr>\n",
       "      <th>6</th>\n",
       "      <td>Caj Guest House Tremont Street</td>\n",
       "      <td>0.936833</td>\n",
       "    </tr>\n",
       "    <tr>\n",
       "      <th>18</th>\n",
       "      <td>Verona's B&amp;B</td>\n",
       "      <td>0.897702</td>\n",
       "    </tr>\n",
       "    <tr>\n",
       "      <th>11</th>\n",
       "      <td>Fort Hill Inn</td>\n",
       "      <td>0.862250</td>\n",
       "    </tr>\n",
       "    <tr>\n",
       "      <th>15</th>\n",
       "      <td>Newbury Guest House</td>\n",
       "      <td>0.848589</td>\n",
       "    </tr>\n",
       "    <tr>\n",
       "      <th>17</th>\n",
       "      <td>The Revolution Hotel</td>\n",
       "      <td>0.846876</td>\n",
       "    </tr>\n",
       "    <tr>\n",
       "      <th>8</th>\n",
       "      <td>Copley Square Hotel</td>\n",
       "      <td>0.845501</td>\n",
       "    </tr>\n",
       "    <tr>\n",
       "      <th>16</th>\n",
       "      <td>The Langham</td>\n",
       "      <td>0.842845</td>\n",
       "    </tr>\n",
       "    <tr>\n",
       "      <th>5</th>\n",
       "      <td>Bostonian Boston</td>\n",
       "      <td>0.836116</td>\n",
       "    </tr>\n",
       "    <tr>\n",
       "      <th>3</th>\n",
       "      <td>Boston Marriott Long Wharf</td>\n",
       "      <td>0.822019</td>\n",
       "    </tr>\n",
       "  </tbody>\n",
       "</table>\n",
       "</div>"
      ],
      "text/plain": [
       "                         hotelName  vaderScore\n",
       "19                     Yun's Place    0.953300\n",
       "6   Caj Guest House Tremont Street    0.936833\n",
       "18                    Verona's B&B    0.897702\n",
       "11                   Fort Hill Inn    0.862250\n",
       "15             Newbury Guest House    0.848589\n",
       "17            The Revolution Hotel    0.846876\n",
       "8              Copley Square Hotel    0.845501\n",
       "16                     The Langham    0.842845\n",
       "5                 Bostonian Boston    0.836116\n",
       "3       Boston Marriott Long Wharf    0.822019"
      ]
     },
     "execution_count": 17,
     "metadata": {},
     "output_type": "execute_result"
    }
   ],
   "source": [
    "vaderByHotel = vaderByHotel.sort_values('vaderScore', ascending=False)\n",
    "vaderByHotel.head(10)"
   ]
  },
  {
   "cell_type": "markdown",
   "metadata": {},
   "source": [
    "### The two lists are very similar!\n",
    "Vader scores are highly correlated with the true rating scores."
   ]
  },
  {
   "cell_type": "markdown",
   "metadata": {},
   "source": [
    "## Which words were most sentiment-bearing in the reviews?\n",
    "#### To explore this question, we will calculate the following 3 factors.\n",
    "1. Word Frequency\n",
    "2. Mutual Information\n",
    "3. Pointwise Mutual Information (PMI)"
   ]
  },
  {
   "cell_type": "markdown",
   "metadata": {},
   "source": [
    "### 1. Word Frequency\n",
    "Can word frequency in review data tell us how the customers felt about the hotels?\n",
    "\n",
    "\n",
    "Let's get the most frequently observed words from the *positive reviews* and *negative reviews*, respectively, to see the difference, if any."
   ]
  },
  {
   "cell_type": "code",
   "execution_count": 18,
   "metadata": {},
   "outputs": [],
   "source": [
    "def get_topk_ngram(df, ngram_range=(1,1), k=None, stopwords=True, with_count=False):\n",
    "    '''\n",
    "    Extract the most frequently occurred words in countvector\n",
    "    '''\n",
    "    if stopwords:\n",
    "        temp = []\n",
    "        for name in hotelDf.hotelName.unique():\n",
    "            for token in name.split():\n",
    "                if len(token) > 1:\n",
    "                    temp.append(token)\n",
    "        my_stop_words = ENGLISH_STOP_WORDS.union(temp)\n",
    "        vectorizer = CountVectorizer(ngram_range=ngram_range, stop_words=my_stop_words, max_features=500)\n",
    "        \n",
    "    else:\n",
    "        vectorizer = CountVectorizer(ngram_range=ngram_range, stop_words=None, max_features=k)\n",
    "        \n",
    "    countvector = vectorizer.fit_transform(df['review'])\n",
    "\n",
    "    # Get topk occurred ngrams\n",
    "    topk_words = []\n",
    "    sortedindices = countvector.toarray().sum(axis=0).argsort()[::-1][:k]\n",
    "    counts = countvector.toarray().sum(axis=0)\n",
    "    \n",
    "    for i in sortedindices:\n",
    "        word = vectorizer.get_feature_names()[i]\n",
    "        \n",
    "        if with_count:\n",
    "            count = counts[i]\n",
    "            topk_words.append((word, count))\n",
    "        else:\n",
    "            topk_words.append(word)\n",
    "            \n",
    "    return topk_words"
   ]
  },
  {
   "cell_type": "markdown",
   "metadata": {},
   "source": [
    "#### Top 10 Words with High Frequency in *Positive* and *Negative* reviews."
   ]
  },
  {
   "cell_type": "code",
   "execution_count": 19,
   "metadata": {},
   "outputs": [
    {
     "name": "stderr",
     "output_type": "stream",
     "text": [
      "/Users/vlad/anaconda3/lib/python3.7/site-packages/sklearn/feature_extraction/text.py:300: UserWarning: Your stop_words may be inconsistent with your preprocessing. Tokenizing the stop words generated tokens ['airport', 'battery', 'beacon', 'boston', 'bostonian', 'caj', 'cambridge', 'copley', 'doubletree', 'east', 'evolve', 'fort', 'garden', 'guest', 'hill', 'hilton', 'hotel', 'house', 'hyatt', 'indigo', 'inn', 'langham', 'logan', 'long', 'marriott', 'newbury', 'park', 'place', 'plaza', 'regency', 'revolution', 'square', 'street', 'suites', 'tremont', 'verona', 'waterfront', 'wharf', 'yun'] not in stop_words.\n",
      "  'stop_words.' % sorted(inconsistent))\n",
      "/Users/vlad/anaconda3/lib/python3.7/site-packages/sklearn/feature_extraction/text.py:300: UserWarning: Your stop_words may be inconsistent with your preprocessing. Tokenizing the stop words generated tokens ['airport', 'battery', 'beacon', 'boston', 'bostonian', 'caj', 'cambridge', 'copley', 'doubletree', 'east', 'evolve', 'fort', 'garden', 'guest', 'hill', 'hilton', 'hotel', 'house', 'hyatt', 'indigo', 'inn', 'langham', 'logan', 'long', 'marriott', 'newbury', 'park', 'place', 'plaza', 'regency', 'revolution', 'square', 'street', 'suites', 'tremont', 'verona', 'waterfront', 'wharf', 'yun'] not in stop_words.\n",
      "  'stop_words.' % sorted(inconsistent))\n",
      "/Users/vlad/anaconda3/lib/python3.7/site-packages/sklearn/feature_extraction/text.py:300: UserWarning: Your stop_words may be inconsistent with your preprocessing. Tokenizing the stop words generated tokens ['airport', 'battery', 'beacon', 'boston', 'bostonian', 'caj', 'cambridge', 'copley', 'doubletree', 'east', 'evolve', 'fort', 'garden', 'guest', 'hill', 'hilton', 'hotel', 'house', 'hyatt', 'indigo', 'inn', 'langham', 'logan', 'long', 'marriott', 'newbury', 'park', 'place', 'plaza', 'regency', 'revolution', 'square', 'street', 'suites', 'tremont', 'verona', 'waterfront', 'wharf', 'yun'] not in stop_words.\n",
      "  'stop_words.' % sorted(inconsistent))\n",
      "/Users/vlad/anaconda3/lib/python3.7/site-packages/sklearn/feature_extraction/text.py:300: UserWarning: Your stop_words may be inconsistent with your preprocessing. Tokenizing the stop words generated tokens ['airport', 'battery', 'beacon', 'boston', 'bostonian', 'caj', 'cambridge', 'copley', 'doubletree', 'east', 'evolve', 'fort', 'garden', 'guest', 'hill', 'hilton', 'hotel', 'house', 'hyatt', 'indigo', 'inn', 'langham', 'logan', 'long', 'marriott', 'newbury', 'park', 'place', 'plaza', 'regency', 'revolution', 'square', 'street', 'suites', 'tremont', 'verona', 'waterfront', 'wharf', 'yun'] not in stop_words.\n",
      "  'stop_words.' % sorted(inconsistent))\n",
      "/Users/vlad/anaconda3/lib/python3.7/site-packages/sklearn/feature_extraction/text.py:300: UserWarning: Your stop_words may be inconsistent with your preprocessing. Tokenizing the stop words generated tokens ['airport', 'battery', 'beacon', 'boston', 'bostonian', 'caj', 'cambridge', 'copley', 'doubletree', 'east', 'evolve', 'fort', 'garden', 'guest', 'hill', 'hilton', 'hotel', 'house', 'hyatt', 'indigo', 'inn', 'langham', 'logan', 'long', 'marriott', 'newbury', 'park', 'place', 'plaza', 'regency', 'revolution', 'square', 'street', 'suites', 'tremont', 'verona', 'waterfront', 'wharf', 'yun'] not in stop_words.\n",
      "  'stop_words.' % sorted(inconsistent))\n",
      "/Users/vlad/anaconda3/lib/python3.7/site-packages/sklearn/feature_extraction/text.py:300: UserWarning: Your stop_words may be inconsistent with your preprocessing. Tokenizing the stop words generated tokens ['airport', 'battery', 'beacon', 'boston', 'bostonian', 'caj', 'cambridge', 'copley', 'doubletree', 'east', 'evolve', 'fort', 'garden', 'guest', 'hill', 'hilton', 'hotel', 'house', 'hyatt', 'indigo', 'inn', 'langham', 'logan', 'long', 'marriott', 'newbury', 'park', 'place', 'plaza', 'regency', 'revolution', 'square', 'street', 'suites', 'tremont', 'verona', 'waterfront', 'wharf', 'yun'] not in stop_words.\n",
      "  'stop_words.' % sorted(inconsistent))\n"
     ]
    },
    {
     "name": "stdout",
     "output_type": "stream",
     "text": [
      "The most frequently occured top 10 words in positive reviews\n",
      "       Word  Count\n",
      "0     hotel  17387\n",
      "1      room  12121\n",
      "2    boston   8736\n",
      "3     great   8343\n",
      "4     staff   6832\n",
      "5      stay   6542\n",
      "6  location   6031\n",
      "7      nice   5163\n",
      "8      good   4689\n",
      "9     rooms   4465\n",
      "\n",
      "The most frequently occured top 10 words in negative reviews\n",
      "       Word  Count\n",
      "0      room   5898\n",
      "1     hotel   5224\n",
      "2      quot   1703\n",
      "3      stay   1637\n",
      "4     night   1549\n",
      "5     rooms   1546\n",
      "6  location   1427\n",
      "7    boston   1409\n",
      "8     staff   1376\n",
      "9   service   1324\n",
      "\n",
      "The most frequently occured top 10 bigrams in positive reviews\n",
      "               Word  Count\n",
      "0  walking distance   1391\n",
      "1    great location   1229\n",
      "2    staff friendly   1019\n",
      "3         north end   1009\n",
      "4     quincy market    726\n",
      "5       hotel great    661\n",
      "6  friendly helpful    654\n",
      "7        room clean    650\n",
      "8      faneuil hall    636\n",
      "9      room service    626\n",
      "\n",
      "The most frequently occured top 10 bigrams in negative reviews\n",
      "               Word  Count\n",
      "0      room service    297\n",
      "1    great location    174\n",
      "2    location great    142\n",
      "3    staff friendly    142\n",
      "4  walking distance    141\n",
      "5        room clean    141\n",
      "6        room small    132\n",
      "7        hotel room    131\n",
      "8      stayed hotel    121\n",
      "9        park plaza    117\n"
     ]
    }
   ],
   "source": [
    "topkTotal = get_topk_ngram(hotelDf, k=500)\n",
    "topkTotal_bigram = get_topk_ngram(hotelDf, ngram_range=(2,2), k=500)\n",
    "topkPos = get_topk_ngram(hotelDf.loc[hotelDf['groundTruth']=='positive'], ngram_range=(1,1), k=10, with_count=True)\n",
    "topkNeg = get_topk_ngram(hotelDf.loc[hotelDf['groundTruth']=='negative'], ngram_range=(1,1), k=10, with_count=True)\n",
    "topkPos_bigram = get_topk_ngram(hotelDf.loc[hotelDf['groundTruth']=='positive'], ngram_range=(2,2), k=10, with_count=True)\n",
    "topkNeg_bigram = get_topk_ngram(hotelDf.loc[hotelDf['groundTruth']=='negative'], ngram_range=(2,2), k=10, with_count=True)\n",
    "\n",
    "print(\"The most frequently occured top 10 words in positive reviews\")\n",
    "pprint(pd.DataFrame(topkPos, columns=['Word', 'Count']))\n",
    "\n",
    "print(\"\\nThe most frequently occured top 10 words in negative reviews\")\n",
    "pprint(pd.DataFrame(topkNeg, columns=['Word', 'Count']))\n",
    "\n",
    "print(\"\\nThe most frequently occured top 10 bigrams in positive reviews\")\n",
    "pprint(pd.DataFrame(topkPos_bigram, columns=['Word', 'Count']))\n",
    "\n",
    "print(\"\\nThe most frequently occured top 10 bigrams in negative reviews\")\n",
    "pprint(pd.DataFrame(topkNeg_bigram, columns=['Word', 'Count']))"
   ]
  },
  {
   "cell_type": "markdown",
   "metadata": {},
   "source": [
    "### Uh.. almost same?\n",
    "It seems like the term frequency doesn't tell us anything about the text. We can observe that there is no difference between the top-k word list for both positive reviews and negative reviews.\n",
    "\n",
    "If we think about it, this result seems obvious. If a customer was really satistied with breakfast, they would mention the word, 'breakfast', in their review. Even if a customer didn't like their breakfast, they also would mention the word, 'breakfast', in their review (with some bad words)."
   ]
  },
  {
   "cell_type": "markdown",
   "metadata": {
    "collapsed": true
   },
   "source": [
    "### 2. Mutual Information"
   ]
  },
  {
   "cell_type": "markdown",
   "metadata": {},
   "source": [
    "**Mutual information tells you how much you learn about X from knowing the value of Y (on average over the choice of Y).** \n",
    "\n",
    "\n",
    "Since we found the word frequency is not a good indicator for the sentiment analysis, we will examine *mutual information*  for an alternative metric.\n",
    "\n",
    "http://scikit-learn.org/stable/modules/generated/sklearn.metrics.mutual_info_score.html"
   ]
  },
  {
   "cell_type": "code",
   "execution_count": 20,
   "metadata": {},
   "outputs": [],
   "source": [
    "# positive = 1 / negative = 0\n",
    "gtScore = []\n",
    "for i in range(len(hotelDf)):\n",
    "    if hotelDf['groundTruth'][i] == 'positive':\n",
    "        gtScore.append(1)\n",
    "    else:\n",
    "        gtScore.append(0)"
   ]
  },
  {
   "cell_type": "code",
   "execution_count": 21,
   "metadata": {},
   "outputs": [],
   "source": [
    "# let's calculate Mutual Information for unigrams and bigrams\n",
    "vectorizer = CountVectorizer(ngram_range=(1,1), stop_words='english', max_features=500)\n",
    "countvector = vectorizer.fit_transform(hotelDf['review'])\n",
    "densevector = np.array(countvector.todense())\n",
    "    \n",
    "# miScore_unigram = pd.DataFrame(data = {'word': vectorizer.get_feature_names(),\n",
    "#              'MI Score': [mutual_info_score(gtScore, densevector[:,i].squeeze()) for i in range(500)]})\n",
    "\n",
    "miScore_unigram = pd.DataFrame(data =\n",
    "                               {'MI Score': [mutual_info_score(gtScore, densevector[:,i].squeeze()) for i in range(500)]}\n",
    "                              , index = vectorizer.get_feature_names())\n",
    "\n",
    "# Bigram version\n",
    "vectorizer = CountVectorizer(ngram_range=(2,2), stop_words='english', max_features=500)\n",
    "countvector = vectorizer.fit_transform(hotelDf['review'])\n",
    "densevector = np.array(countvector.todense())\n",
    "miScore_bigram = pd.DataFrame(data =\n",
    "                    {'MI Score': [mutual_info_score(gtScore, densevector[:,i].squeeze()) for i in range(500)]},\n",
    "                    index = vectorizer.get_feature_names())"
   ]
  },
  {
   "cell_type": "code",
   "execution_count": 22,
   "metadata": {},
   "outputs": [
    {
     "name": "stdout",
     "output_type": "stream",
     "text": [
      "Mutual Information - Unigram\n"
     ]
    },
    {
     "data": {
      "text/html": [
       "<div>\n",
       "<style scoped>\n",
       "    .dataframe tbody tr th:only-of-type {\n",
       "        vertical-align: middle;\n",
       "    }\n",
       "\n",
       "    .dataframe tbody tr th {\n",
       "        vertical-align: top;\n",
       "    }\n",
       "\n",
       "    .dataframe thead th {\n",
       "        text-align: right;\n",
       "    }\n",
       "</style>\n",
       "<table border=\"1\" class=\"dataframe\">\n",
       "  <thead>\n",
       "    <tr style=\"text-align: right;\">\n",
       "      <th></th>\n",
       "      <th>MI Score</th>\n",
       "    </tr>\n",
       "  </thead>\n",
       "  <tbody>\n",
       "    <tr>\n",
       "      <th>room</th>\n",
       "      <td>0.023352</td>\n",
       "    </tr>\n",
       "    <tr>\n",
       "      <th>told</th>\n",
       "      <td>0.020139</td>\n",
       "    </tr>\n",
       "    <tr>\n",
       "      <th>great</th>\n",
       "      <td>0.017564</td>\n",
       "    </tr>\n",
       "    <tr>\n",
       "      <th>said</th>\n",
       "      <td>0.013854</td>\n",
       "    </tr>\n",
       "    <tr>\n",
       "      <th>night</th>\n",
       "      <td>0.012216</td>\n",
       "    </tr>\n",
       "    <tr>\n",
       "      <th>called</th>\n",
       "      <td>0.012028</td>\n",
       "    </tr>\n",
       "    <tr>\n",
       "      <th>poor</th>\n",
       "      <td>0.011451</td>\n",
       "    </tr>\n",
       "    <tr>\n",
       "      <th>quot</th>\n",
       "      <td>0.010595</td>\n",
       "    </tr>\n",
       "    <tr>\n",
       "      <th>boston</th>\n",
       "      <td>0.010538</td>\n",
       "    </tr>\n",
       "    <tr>\n",
       "      <th>asked</th>\n",
       "      <td>0.010511</td>\n",
       "    </tr>\n",
       "  </tbody>\n",
       "</table>\n",
       "</div>"
      ],
      "text/plain": [
       "        MI Score\n",
       "room    0.023352\n",
       "told    0.020139\n",
       "great   0.017564\n",
       "said    0.013854\n",
       "night   0.012216\n",
       "called  0.012028\n",
       "poor    0.011451\n",
       "quot    0.010595\n",
       "boston  0.010538\n",
       "asked   0.010511"
      ]
     },
     "execution_count": 22,
     "metadata": {},
     "output_type": "execute_result"
    }
   ],
   "source": [
    "miScore_unigram.sort_values('MI Score', inplace=True, ascending=False)\n",
    "print('Mutual Information - Unigram')\n",
    "miScore_unigram.head(10)"
   ]
  },
  {
   "cell_type": "code",
   "execution_count": 23,
   "metadata": {},
   "outputs": [
    {
     "name": "stdout",
     "output_type": "stream",
     "text": [
      "Mutual Information - Bigram\n"
     ]
    },
    {
     "data": {
      "text/html": [
       "<div>\n",
       "<style scoped>\n",
       "    .dataframe tbody tr th:only-of-type {\n",
       "        vertical-align: middle;\n",
       "    }\n",
       "\n",
       "    .dataframe tbody tr th {\n",
       "        vertical-align: top;\n",
       "    }\n",
       "\n",
       "    .dataframe thead th {\n",
       "        text-align: right;\n",
       "    }\n",
       "</style>\n",
       "<table border=\"1\" class=\"dataframe\">\n",
       "  <thead>\n",
       "    <tr style=\"text-align: right;\">\n",
       "      <th></th>\n",
       "      <th>MI Score</th>\n",
       "    </tr>\n",
       "  </thead>\n",
       "  <tbody>\n",
       "    <tr>\n",
       "      <th>definitely stay</th>\n",
       "      <td>0.007546</td>\n",
       "    </tr>\n",
       "    <tr>\n",
       "      <th>highly recommend</th>\n",
       "      <td>0.006792</td>\n",
       "    </tr>\n",
       "    <tr>\n",
       "      <th>walking distance</th>\n",
       "      <td>0.005218</td>\n",
       "    </tr>\n",
       "    <tr>\n",
       "      <th>didn work</th>\n",
       "      <td>0.004185</td>\n",
       "    </tr>\n",
       "    <tr>\n",
       "      <th>called desk</th>\n",
       "      <td>0.003874</td>\n",
       "    </tr>\n",
       "    <tr>\n",
       "      <th>north end</th>\n",
       "      <td>0.003580</td>\n",
       "    </tr>\n",
       "    <tr>\n",
       "      <th>quincy market</th>\n",
       "      <td>0.003191</td>\n",
       "    </tr>\n",
       "    <tr>\n",
       "      <th>freedom trail</th>\n",
       "      <td>0.002973</td>\n",
       "    </tr>\n",
       "    <tr>\n",
       "      <th>faneuil hall</th>\n",
       "      <td>0.002914</td>\n",
       "    </tr>\n",
       "    <tr>\n",
       "      <th>friendly helpful</th>\n",
       "      <td>0.002669</td>\n",
       "    </tr>\n",
       "  </tbody>\n",
       "</table>\n",
       "</div>"
      ],
      "text/plain": [
       "                  MI Score\n",
       "definitely stay   0.007546\n",
       "highly recommend  0.006792\n",
       "walking distance  0.005218\n",
       "didn work         0.004185\n",
       "called desk       0.003874\n",
       "north end         0.003580\n",
       "quincy market     0.003191\n",
       "freedom trail     0.002973\n",
       "faneuil hall      0.002914\n",
       "friendly helpful  0.002669"
      ]
     },
     "execution_count": 23,
     "metadata": {},
     "output_type": "execute_result"
    }
   ],
   "source": [
    "miScore_bigram.sort_values('MI Score', inplace=True, ascending=False)\n",
    "print('Mutual Information - Bigram')\n",
    "miScore_bigram.head(10)"
   ]
  },
  {
   "cell_type": "markdown",
   "metadata": {},
   "source": [
    "### What does it mean?\n",
    "If we observe words having high Mutual Information scores in a review, we would learn a lot about the sentiment of review, (positive or negative)."
   ]
  },
  {
   "cell_type": "markdown",
   "metadata": {},
   "source": [
    "###  3. Pointwise Mutual Information"
   ]
  },
  {
   "cell_type": "markdown",
   "metadata": {},
   "source": [
    "Similar to MI, PMI is measuring for sigle event where MI is the average of all possible event.\n",
    "\n",
    "The events P(x,y) = P(0,1) means the event of the review is negative but the specific word is existing in that review"
   ]
  },
  {
   "cell_type": "markdown",
   "metadata": {},
   "source": [
    "#### Let's see how Pointwise Mutual Information calculated. The PMI of a pair of outcomes x and y belonging to discrete random variables X and Y quantifies the discrepancy between the probability of their coincidence given their joint distribution and their individual distributions, assuming independence.\n",
    "#### To study more about Pointwise Mutual Information, see [Wikipedia](https://en.wikipedia.org/wiki/Pointwise_mutual_information) "
   ]
  },
  {
   "cell_type": "markdown",
   "metadata": {},
   "source": [
    "![image](https://wikimedia.org/api/rest_v1/media/math/render/svg/ff54cfce726857db855d4dd0a9dee2c6a5e7be99)"
   ]
  },
  {
   "cell_type": "code",
   "execution_count": 24,
   "metadata": {},
   "outputs": [],
   "source": [
    "def getPMI_ngram(df, gt, ngram_range=(1,1), max_features=500):\n",
    "    vectorizer = CountVectorizer(ngram_range=ngram_range, stop_words='english', max_features=max_features)\n",
    "    countvector = vectorizer.fit_transform(hotelDf['review'])\n",
    "    densevector = np.array(countvector.todense())\n",
    "    \n",
    "    px = sum(df['groundTruth'] == gt) / len(df)\n",
    "    pmis = []\n",
    "    \n",
    "    for i in range(max_features):\n",
    "        py = sum(densevector[:,i] == 1) / len(df)\n",
    "        pxy = len(df[(df['groundTruth'] == gt) & (densevector[:,i] == 1)]) / len(df)\n",
    "        \n",
    "        if pxy == 0:\n",
    "            pmi = math.log10((pxy + 0.0001) / (px * py))\n",
    "        else:\n",
    "            pmi = math.log10(pxy / (px * py))\n",
    "            \n",
    "        pmis.append(pmi)\n",
    "        \n",
    "    pmis = pd.DataFrame(data = {'pmi' + gt: pmis}, index = vectorizer.get_feature_names())\n",
    "    return pmis.sort_values('pmi' + gt, ascending=False)"
   ]
  },
  {
   "cell_type": "markdown",
   "metadata": {},
   "source": [
    "From the table above, we can see the word, 'dirty', has negatively correlated with 'positive' label because the pmi value for 'positive' label is the smallest value (-0.69) among the four values."
   ]
  },
  {
   "cell_type": "code",
   "execution_count": 25,
   "metadata": {},
   "outputs": [],
   "source": [
    "pmiPos_unigram = getPMI_ngram(hotelDf, 'positive')\n",
    "pmiNeg_unigram = getPMI_ngram(hotelDf, 'negative')\n",
    "pmiPos_bigram = getPMI_ngram(hotelDf, 'positive', ngram_range=(2,2))\n",
    "pmiNeg_bigram = getPMI_ngram(hotelDf, 'negative', ngram_range=(2,2))"
   ]
  },
  {
   "cell_type": "markdown",
   "metadata": {},
   "source": [
    "### Let's see what PMI values tell us about the reviews"
   ]
  },
  {
   "cell_type": "code",
   "execution_count": 26,
   "metadata": {},
   "outputs": [
    {
     "name": "stdout",
     "output_type": "stream",
     "text": [
      "PMI for positive reviews - Unigram\n"
     ]
    },
    {
     "data": {
      "text/html": [
       "<div>\n",
       "<style scoped>\n",
       "    .dataframe tbody tr th:only-of-type {\n",
       "        vertical-align: middle;\n",
       "    }\n",
       "\n",
       "    .dataframe tbody tr th {\n",
       "        vertical-align: top;\n",
       "    }\n",
       "\n",
       "    .dataframe thead th {\n",
       "        text-align: right;\n",
       "    }\n",
       "</style>\n",
       "<table border=\"1\" class=\"dataframe\">\n",
       "  <thead>\n",
       "    <tr style=\"text-align: right;\">\n",
       "      <th></th>\n",
       "      <th>pmipositive</th>\n",
       "    </tr>\n",
       "  </thead>\n",
       "  <tbody>\n",
       "    <tr>\n",
       "      <th>highly</th>\n",
       "      <td>0.086523</td>\n",
       "    </tr>\n",
       "    <tr>\n",
       "      <th>delicious</th>\n",
       "      <td>0.074814</td>\n",
       "    </tr>\n",
       "    <tr>\n",
       "      <th>trail</th>\n",
       "      <td>0.071781</td>\n",
       "    </tr>\n",
       "    <tr>\n",
       "      <th>freedom</th>\n",
       "      <td>0.070795</td>\n",
       "    </tr>\n",
       "    <tr>\n",
       "      <th>amazing</th>\n",
       "      <td>0.070792</td>\n",
       "    </tr>\n",
       "    <tr>\n",
       "      <th>fenway</th>\n",
       "      <td>0.069768</td>\n",
       "    </tr>\n",
       "    <tr>\n",
       "      <th>loved</th>\n",
       "      <td>0.069724</td>\n",
       "    </tr>\n",
       "    <tr>\n",
       "      <th>perfect</th>\n",
       "      <td>0.068939</td>\n",
       "    </tr>\n",
       "    <tr>\n",
       "      <th>wonderful</th>\n",
       "      <td>0.067354</td>\n",
       "    </tr>\n",
       "    <tr>\n",
       "      <th>enjoyed</th>\n",
       "      <td>0.066629</td>\n",
       "    </tr>\n",
       "  </tbody>\n",
       "</table>\n",
       "</div>"
      ],
      "text/plain": [
       "           pmipositive\n",
       "highly        0.086523\n",
       "delicious     0.074814\n",
       "trail         0.071781\n",
       "freedom       0.070795\n",
       "amazing       0.070792\n",
       "fenway        0.069768\n",
       "loved         0.069724\n",
       "perfect       0.068939\n",
       "wonderful     0.067354\n",
       "enjoyed       0.066629"
      ]
     },
     "execution_count": 26,
     "metadata": {},
     "output_type": "execute_result"
    }
   ],
   "source": [
    "print('PMI for positive reviews - Unigram')\n",
    "pmiPos_unigram.head(10)"
   ]
  },
  {
   "cell_type": "code",
   "execution_count": 27,
   "metadata": {},
   "outputs": [
    {
     "name": "stdout",
     "output_type": "stream",
     "text": [
      "PMI for positive reviews - Bigram\n"
     ]
    },
    {
     "data": {
      "text/html": [
       "<div>\n",
       "<style scoped>\n",
       "    .dataframe tbody tr th:only-of-type {\n",
       "        vertical-align: middle;\n",
       "    }\n",
       "\n",
       "    .dataframe tbody tr th {\n",
       "        vertical-align: top;\n",
       "    }\n",
       "\n",
       "    .dataframe thead th {\n",
       "        text-align: right;\n",
       "    }\n",
       "</style>\n",
       "<table border=\"1\" class=\"dataframe\">\n",
       "  <thead>\n",
       "    <tr style=\"text-align: right;\">\n",
       "      <th></th>\n",
       "      <th>pmipositive</th>\n",
       "    </tr>\n",
       "  </thead>\n",
       "  <tbody>\n",
       "    <tr>\n",
       "      <th>highly recommended</th>\n",
       "      <td>0.100408</td>\n",
       "    </tr>\n",
       "    <tr>\n",
       "      <th>definitely return</th>\n",
       "      <td>0.096512</td>\n",
       "    </tr>\n",
       "    <tr>\n",
       "      <th>definitely recommend</th>\n",
       "      <td>0.096043</td>\n",
       "    </tr>\n",
       "    <tr>\n",
       "      <th>definitely stay</th>\n",
       "      <td>0.094636</td>\n",
       "    </tr>\n",
       "    <tr>\n",
       "      <th>highly recommend</th>\n",
       "      <td>0.094125</td>\n",
       "    </tr>\n",
       "    <tr>\n",
       "      <th>pleasantly surprised</th>\n",
       "      <td>0.093169</td>\n",
       "    </tr>\n",
       "    <tr>\n",
       "      <th>super friendly</th>\n",
       "      <td>0.090307</td>\n",
       "    </tr>\n",
       "    <tr>\n",
       "      <th>clean great</th>\n",
       "      <td>0.089684</td>\n",
       "    </tr>\n",
       "    <tr>\n",
       "      <th>extremely helpful</th>\n",
       "      <td>0.086260</td>\n",
       "    </tr>\n",
       "    <tr>\n",
       "      <th>wonderful hotel</th>\n",
       "      <td>0.084802</td>\n",
       "    </tr>\n",
       "  </tbody>\n",
       "</table>\n",
       "</div>"
      ],
      "text/plain": [
       "                      pmipositive\n",
       "highly recommended       0.100408\n",
       "definitely return        0.096512\n",
       "definitely recommend     0.096043\n",
       "definitely stay          0.094636\n",
       "highly recommend         0.094125\n",
       "pleasantly surprised     0.093169\n",
       "super friendly           0.090307\n",
       "clean great              0.089684\n",
       "extremely helpful        0.086260\n",
       "wonderful hotel          0.084802"
      ]
     },
     "execution_count": 27,
     "metadata": {},
     "output_type": "execute_result"
    }
   ],
   "source": [
    "print('PMI for positive reviews - Bigram')\n",
    "pmiPos_bigram.head(10)"
   ]
  },
  {
   "cell_type": "code",
   "execution_count": 28,
   "metadata": {},
   "outputs": [
    {
     "name": "stdout",
     "output_type": "stream",
     "text": [
      "PMI for negative reviews - Unigram\n"
     ]
    },
    {
     "data": {
      "text/html": [
       "<div>\n",
       "<style scoped>\n",
       "    .dataframe tbody tr th:only-of-type {\n",
       "        vertical-align: middle;\n",
       "    }\n",
       "\n",
       "    .dataframe tbody tr th {\n",
       "        vertical-align: top;\n",
       "    }\n",
       "\n",
       "    .dataframe thead th {\n",
       "        text-align: right;\n",
       "    }\n",
       "</style>\n",
       "<table border=\"1\" class=\"dataframe\">\n",
       "  <thead>\n",
       "    <tr style=\"text-align: right;\">\n",
       "      <th></th>\n",
       "      <th>pminegative</th>\n",
       "    </tr>\n",
       "  </thead>\n",
       "  <tbody>\n",
       "    <tr>\n",
       "      <th>poor</th>\n",
       "      <td>0.515574</td>\n",
       "    </tr>\n",
       "    <tr>\n",
       "      <th>wall</th>\n",
       "      <td>0.429983</td>\n",
       "    </tr>\n",
       "    <tr>\n",
       "      <th>told</th>\n",
       "      <td>0.424480</td>\n",
       "    </tr>\n",
       "    <tr>\n",
       "      <th>tiny</th>\n",
       "      <td>0.416628</td>\n",
       "    </tr>\n",
       "    <tr>\n",
       "      <th>charged</th>\n",
       "      <td>0.410328</td>\n",
       "    </tr>\n",
       "    <tr>\n",
       "      <th>ok</th>\n",
       "      <td>0.397190</td>\n",
       "    </tr>\n",
       "    <tr>\n",
       "      <th>loud</th>\n",
       "      <td>0.392498</td>\n",
       "    </tr>\n",
       "    <tr>\n",
       "      <th>paid</th>\n",
       "      <td>0.390243</td>\n",
       "    </tr>\n",
       "    <tr>\n",
       "      <th>average</th>\n",
       "      <td>0.384225</td>\n",
       "    </tr>\n",
       "    <tr>\n",
       "      <th>said</th>\n",
       "      <td>0.379444</td>\n",
       "    </tr>\n",
       "  </tbody>\n",
       "</table>\n",
       "</div>"
      ],
      "text/plain": [
       "         pminegative\n",
       "poor        0.515574\n",
       "wall        0.429983\n",
       "told        0.424480\n",
       "tiny        0.416628\n",
       "charged     0.410328\n",
       "ok          0.397190\n",
       "loud        0.392498\n",
       "paid        0.390243\n",
       "average     0.384225\n",
       "said        0.379444"
      ]
     },
     "execution_count": 28,
     "metadata": {},
     "output_type": "execute_result"
    }
   ],
   "source": [
    "print('PMI for negative reviews - Unigram')\n",
    "pmiNeg_unigram.head(10)"
   ]
  },
  {
   "cell_type": "code",
   "execution_count": 29,
   "metadata": {},
   "outputs": [
    {
     "name": "stdout",
     "output_type": "stream",
     "text": [
      "PMI for negative reviews - Bigram\n"
     ]
    },
    {
     "data": {
      "text/html": [
       "<div>\n",
       "<style scoped>\n",
       "    .dataframe tbody tr th:only-of-type {\n",
       "        vertical-align: middle;\n",
       "    }\n",
       "\n",
       "    .dataframe tbody tr th {\n",
       "        vertical-align: top;\n",
       "    }\n",
       "\n",
       "    .dataframe thead th {\n",
       "        text-align: right;\n",
       "    }\n",
       "</style>\n",
       "<table border=\"1\" class=\"dataframe\">\n",
       "  <thead>\n",
       "    <tr style=\"text-align: right;\">\n",
       "      <th></th>\n",
       "      <th>pminegative</th>\n",
       "    </tr>\n",
       "  </thead>\n",
       "  <tbody>\n",
       "    <tr>\n",
       "      <th>didn work</th>\n",
       "      <td>0.556771</td>\n",
       "    </tr>\n",
       "    <tr>\n",
       "      <th>called desk</th>\n",
       "      <td>0.469655</td>\n",
       "    </tr>\n",
       "    <tr>\n",
       "      <th>did work</th>\n",
       "      <td>0.461739</td>\n",
       "    </tr>\n",
       "    <tr>\n",
       "      <th>credit card</th>\n",
       "      <td>0.449166</td>\n",
       "    </tr>\n",
       "    <tr>\n",
       "      <th>don think</th>\n",
       "      <td>0.443435</td>\n",
       "    </tr>\n",
       "    <tr>\n",
       "      <th>quot room</th>\n",
       "      <td>0.436057</td>\n",
       "    </tr>\n",
       "    <tr>\n",
       "      <th>night room</th>\n",
       "      <td>0.427934</td>\n",
       "    </tr>\n",
       "    <tr>\n",
       "      <th>looked like</th>\n",
       "      <td>0.367835</td>\n",
       "    </tr>\n",
       "    <tr>\n",
       "      <th>30 minutes</th>\n",
       "      <td>0.367412</td>\n",
       "    </tr>\n",
       "    <tr>\n",
       "      <th>wasn u2019t</th>\n",
       "      <td>0.336302</td>\n",
       "    </tr>\n",
       "  </tbody>\n",
       "</table>\n",
       "</div>"
      ],
      "text/plain": [
       "             pminegative\n",
       "didn work       0.556771\n",
       "called desk     0.469655\n",
       "did work        0.461739\n",
       "credit card     0.449166\n",
       "don think       0.443435\n",
       "quot room       0.436057\n",
       "night room      0.427934\n",
       "looked like     0.367835\n",
       "30 minutes      0.367412\n",
       "wasn u2019t     0.336302"
      ]
     },
     "execution_count": 29,
     "metadata": {},
     "output_type": "execute_result"
    }
   ],
   "source": [
    "print('PMI for negative reviews - Bigram')\n",
    "pmiNeg_bigram.head(10)"
   ]
  },
  {
   "cell_type": "code",
   "execution_count": 30,
   "metadata": {
    "scrolled": false
   },
   "outputs": [
    {
     "data": {
      "image/png": "[encoded data removed]",
      "text/plain": [
       "<Figure size 432x288 with 1 Axes>"
      ]
     },
     "metadata": {
      "needs_background": "light"
     },
     "output_type": "display_data"
    },
    {
     "data": {
      "image/png": "[encoded data removed]",
      "text/plain": [
       "<Figure size 432x288 with 1 Axes>"
      ]
     },
     "metadata": {
      "needs_background": "light"
     },
     "output_type": "display_data"
    }
   ],
   "source": [
    "pmiPos_unigram.head(10).plot.bar(rot=40, color='b',\n",
    "                                 title='Top 10 words in Positive Reviews based on PMI scores')\n",
    "pmiNeg_unigram.head(10).plot.bar(rot=40, color='r',\n",
    "                                 title='Top 10 words in Negative Reviews based on PMI scores')\n",
    "plt.show()"
   ]
  },
  {
   "cell_type": "code",
   "execution_count": 31,
   "metadata": {},
   "outputs": [
    {
     "data": {
      "image/png": "[encoded data removed]",
      "text/plain": [
       "<Figure size 432x288 with 1 Axes>"
      ]
     },
     "metadata": {
      "needs_background": "light"
     },
     "output_type": "display_data"
    },
    {
     "data": {
      "image/png": "[encoded data removed]",
      "text/plain": [
       "<Figure size 432x288 with 1 Axes>"
      ]
     },
     "metadata": {
      "needs_background": "light"
     },
     "output_type": "display_data"
    }
   ],
   "source": [
    "pmiPos_bigram.head(10).plot.bar(rot=40, color='b',\n",
    "                                 title='Top 10 words in Positive Reviews based on PMI scores')\n",
    "pmiNeg_bigram.head(10).plot.bar(rot=40, color='r',\n",
    "                                 title='Top 10 words in Negative Reviews based on PMI scores')\n",
    "plt.show()"
   ]
  },
  {
   "cell_type": "markdown",
   "metadata": {
    "collapsed": true
   },
   "source": [
    "### Pointwise Mutual Information seems like a good metric to summarize the reviews in n-gram tokens!\n",
    "### By reading the n-gram tokens with high PMI scores for target variable, we can get a sense how much the reviewer did or didn't like the hotels. "
   ]
  },
  {
   "cell_type": "markdown",
   "metadata": {},
   "source": [
    "# Visualization\n",
    "Sometimes, we can learn a lot about the data by visualizing."
   ]
  },
  {
   "cell_type": "markdown",
   "metadata": {},
   "source": [
    "## Historgrams"
   ]
  },
  {
   "cell_type": "code",
   "execution_count": 32,
   "metadata": {
    "scrolled": false
   },
   "outputs": [
    {
     "data": {
      "image/png": "[encoded data removed]",
      "text/plain": [
       "<Figure size 432x288 with 1 Axes>"
      ]
     },
     "metadata": {
      "needs_background": "light"
     },
     "output_type": "display_data"
    }
   ],
   "source": [
    "plt.xlabel('Rating Score')\n",
    "hotelDf['ratingScore'].plot(kind='hist', title='Histogram - Rating Scores',\n",
    "                            bins=np.arange(1,7)-0.5)\n",
    "plt.show()"
   ]
  },
  {
   "cell_type": "code",
   "execution_count": 33,
   "metadata": {},
   "outputs": [
    {
     "data": {
      "image/png": "[encoded data removed]",
      "text/plain": [
       "<Figure size 432x288 with 1 Axes>"
      ]
     },
     "metadata": {
      "needs_background": "light"
     },
     "output_type": "display_data"
    }
   ],
   "source": [
    "plt.xlabel('Vader Sentiment Score')\n",
    "hotelDf['vaderScore'].plot(kind='hist', title='Histogram - Vader Scores', \n",
    "                           xticks=[-1.0, -0.5, 0.0, 0.5, 1.0])\n",
    "plt.show()"
   ]
  },
  {
   "cell_type": "code",
   "execution_count": 34,
   "metadata": {},
   "outputs": [
    {
     "name": "stderr",
     "output_type": "stream",
     "text": [
      "/Users/vlad/anaconda3/lib/python3.7/site-packages/ipykernel_launcher.py:3: FutureWarning: Method .as_matrix will be removed in a future version. Use .values instead.\n",
      "  This is separate from the ipykernel package so we can avoid doing imports until\n",
      "/Users/vlad/anaconda3/lib/python3.7/site-packages/ipykernel_launcher.py:4: FutureWarning: Method .as_matrix will be removed in a future version. Use .values instead.\n",
      "  after removing the cwd from sys.path.\n"
     ]
    },
    {
     "data": {
      "image/png": "[encoded data removed]",
      "text/plain": [
       "<Figure size 432x288 with 1 Axes>"
      ]
     },
     "metadata": {
      "needs_background": "light"
     },
     "output_type": "display_data"
    }
   ],
   "source": [
    "#Overlayed Histogram for GT rating and VD score\n",
    "#Just for demonstrating, I am dividing the rating score by 5\n",
    "x = [hotelDf['ratingScore'].as_matrix() / 5]\n",
    "y = [(hotelDf['vaderScore'].as_matrix() + 1 )/ 2]\n",
    "bins = np.linspace(0, 1, 100)\n",
    "plt.hist(x, bins, label='Rescaled True Ratings')\n",
    "plt.hist(y, bins, label='Rescaled Vader Scores')\n",
    "plt.title('Histogram - Rescaled')\n",
    "plt.xlabel('Score')\n",
    "plt.ylabel('Frequency')\n",
    "plt.legend(loc='upper left')\n",
    "plt.show()"
   ]
  },
  {
   "cell_type": "markdown",
   "metadata": {},
   "source": [
    "## Boxplots"
   ]
  },
  {
   "cell_type": "code",
   "execution_count": 35,
   "metadata": {
    "scrolled": false
   },
   "outputs": [
    {
     "name": "stderr",
     "output_type": "stream",
     "text": [
      "/Users/vlad/anaconda3/lib/python3.7/site-packages/ipykernel_launcher.py:2: FutureWarning: Method .as_matrix will be removed in a future version. Use .values instead.\n",
      "  \n"
     ]
    }
   ],
   "source": [
    "#Plot top 5 side-by-side boxplot for top 5 ground truth rated hotel\n",
    "tp5gthotel = ratingByHotel.sort_values('ratingScore', ascending=False).head(5).hotelName.as_matrix()\n",
    "\n",
    "tempdf = hotelDf[(hotelDf.hotelName == tp5gthotel[0]) | (hotelDf.hotelName == tp5gthotel[1]) | \n",
    "         (hotelDf.hotelName == tp5gthotel[2]) | (hotelDf.hotelName == tp5gthotel[3]) | \n",
    "         (hotelDf.hotelName == tp5gthotel[4])]"
   ]
  },
  {
   "cell_type": "code",
   "execution_count": 36,
   "metadata": {},
   "outputs": [
    {
     "name": "stderr",
     "output_type": "stream",
     "text": [
      "/Users/vlad/anaconda3/lib/python3.7/site-packages/seaborn/categorical.py:3666: UserWarning: The `factorplot` function has been renamed to `catplot`. The original name will be removed in a future release. Please update your code. Note that the default `kind` in `factorplot` (`'point'`) has changed `'strip'` in `catplot`.\n",
      "  warnings.warn(msg)\n",
      "/Users/vlad/anaconda3/lib/python3.7/site-packages/seaborn/categorical.py:3672: UserWarning: The `size` paramter has been renamed to `height`; please update your code.\n",
      "  warnings.warn(msg, UserWarning)\n"
     ]
    },
    {
     "data": {
      "image/png": "[encoded data removed]",
      "text/plain": [
       "<Figure size 648x432 with 1 Axes>"
      ]
     },
     "metadata": {
      "needs_background": "light"
     },
     "output_type": "display_data"
    }
   ],
   "source": [
    "g = sns.factorplot(kind='box',        # Boxplot\n",
    "               y='ratingScore',       # Y-axis - values for boxplot\n",
    "               x='hotelName',        # X-axis - first factor\n",
    "               data=tempdf,        # Dataframe \n",
    "               size=6,            # Figure size (x100px)      \n",
    "               aspect=1.5,        # Width = size * aspect \n",
    "               legend_out=False)  # Make legend inside the plot\n",
    "\n",
    "for ax in g.axes.flat:\n",
    "    labels = ax.get_xticklabels() # get x labels\n",
    "    ax.set_xticklabels(labels, rotation=30) # set new labels\n",
    "    \n",
    "plt.show()"
   ]
  },
  {
   "cell_type": "code",
   "execution_count": 37,
   "metadata": {},
   "outputs": [
    {
     "name": "stderr",
     "output_type": "stream",
     "text": [
      "/Users/vlad/anaconda3/lib/python3.7/site-packages/seaborn/categorical.py:3666: UserWarning: The `factorplot` function has been renamed to `catplot`. The original name will be removed in a future release. Please update your code. Note that the default `kind` in `factorplot` (`'point'`) has changed `'strip'` in `catplot`.\n",
      "  warnings.warn(msg)\n",
      "/Users/vlad/anaconda3/lib/python3.7/site-packages/seaborn/categorical.py:3672: UserWarning: The `size` paramter has been renamed to `height`; please update your code.\n",
      "  warnings.warn(msg, UserWarning)\n"
     ]
    },
    {
     "data": {
      "image/png": "[encoded data removed]",
      "text/plain": [
       "<Figure size 648x432 with 1 Axes>"
      ]
     },
     "metadata": {
      "needs_background": "light"
     },
     "output_type": "display_data"
    }
   ],
   "source": [
    "g = sns.factorplot(kind='box',        # Boxplot\n",
    "               y='vaderScore',       # Y-axis - values for boxplot\n",
    "               x='hotelName',        # X-axis - first factor\n",
    "               data=tempdf,        # Dataframe \n",
    "               size=6,            # Figure size (x100px)      \n",
    "               aspect=1.5,        # Width = size * aspect \n",
    "               legend_out=False)  # Make legend inside the plot\n",
    "\n",
    "for ax in g.axes.flat:\n",
    "    labels = ax.get_xticklabels() # get x labels\n",
    "    ax.set_xticklabels(labels, rotation=30) # set new labels\n",
    "    \n",
    "plt.show()"
   ]
  },
  {
   "cell_type": "markdown",
   "metadata": {},
   "source": [
    "## Scatterplots"
   ]
  },
  {
   "cell_type": "code",
   "execution_count": 38,
   "metadata": {},
   "outputs": [
    {
     "name": "stderr",
     "output_type": "stream",
     "text": [
      "/Users/vlad/anaconda3/lib/python3.7/site-packages/ipykernel_launcher.py:1: FutureWarning: Method .as_matrix will be removed in a future version. Use .values instead.\n",
      "  \"\"\"Entry point for launching an IPython kernel.\n",
      "/Users/vlad/anaconda3/lib/python3.7/site-packages/ipykernel_launcher.py:2: FutureWarning: Method .as_matrix will be removed in a future version. Use .values instead.\n",
      "  \n"
     ]
    },
    {
     "data": {
      "image/png": "[encoded data removed]",
      "text/plain": [
       "<Figure size 432x288 with 1 Axes>"
      ]
     },
     "metadata": {
      "needs_background": "light"
     },
     "output_type": "display_data"
    }
   ],
   "source": [
    "y = hotelDf['ratingScore'].as_matrix()\n",
    "x = hotelDf['vaderScore'].as_matrix()\n",
    "plt.title('Vader score vs. True Ratings')\n",
    "plt.xlabel('Vader Scores')\n",
    "plt.ylabel('True Ratings')\n",
    "plt.xticks([-1, -0.5, 0, 0.5, 1])\n",
    "plt.yticks([1,2,3,4,5])\n",
    "plt.plot(x, y, \"o\", ms=3, color='b')\n",
    "plt.show()"
   ]
  },
  {
   "cell_type": "code",
   "execution_count": null,
   "metadata": {},
   "outputs": [],
   "source": []
  },
  {
   "cell_type": "code",
   "execution_count": null,
   "metadata": {},
   "outputs": [],
   "source": []
  }
 ],
 "metadata": {
  "anaconda-cloud": {},
  "kernelspec": {
   "display_name": "Python 3",
   "language": "python",
   "name": "python3"
  },
  "language_info": {
   "codemirror_mode": {
    "name": "ipython",
    "version": 3
   },
   "file_extension": ".py",
   "mimetype": "text/x-python",
   "name": "python",
   "nbconvert_exporter": "python",
   "pygments_lexer": "ipython3",
   "version": "3.7.3"
  },
  "varInspector": {
   "cols": {
    "lenName": 16,
    "lenType": 16,
    "lenVar": 40
   },
   "kernels_config": {
    "python": {
     "delete_cmd_postfix": "",
     "delete_cmd_prefix": "del ",
     "library": "var_list.py",
     "varRefreshCmd": "print(var_dic_list())"
    },
    "r": {
     "delete_cmd_postfix": ") ",
     "delete_cmd_prefix": "rm(",
     "library": "var_list.r",
     "varRefreshCmd": "cat(var_dic_list()) "
    }
   },
   "types_to_exclude": [
    "module",
    "function",
    "builtin_function_or_method",
    "instance",
    "_Feature"
   ],
   "window_display": false
  }
 },
 "nbformat": 4,
 "nbformat_minor": 1
}
